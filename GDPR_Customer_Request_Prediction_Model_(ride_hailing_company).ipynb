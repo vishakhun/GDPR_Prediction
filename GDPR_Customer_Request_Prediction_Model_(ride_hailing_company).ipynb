{
  "nbformat": 4,
  "nbformat_minor": 0,
  "metadata": {
    "colab": {
      "provenance": [],
      "authorship_tag": "ABX9TyOxCEXJl41Ii1XsSodMag3o",
      "include_colab_link": true
    },
    "kernelspec": {
      "name": "python3",
      "display_name": "Python 3"
    },
    "language_info": {
      "name": "python"
    }
  },
  "cells": [
    {
      "cell_type": "markdown",
      "metadata": {
        "id": "view-in-github",
        "colab_type": "text"
      },
      "source": [
        "<a href=\"https://colab.research.google.com/github/vishakhun/GDPR_Prediction/blob/main/GDPR_Customer_Request_Prediction_Model_(ride_hailing_company).ipynb\" target=\"_parent\"><img src=\"https://colab.research.google.com/assets/colab-badge.svg\" alt=\"Open In Colab\"/></a>"
      ]
    },
    {
      "cell_type": "markdown",
      "source": [
        "#GDPR Customer Request Prediction Model - Ride-hailing company\n",
        "\n",
        "##1. Introduction\n",
        "This project aims to predict whether customer service requests are related to GDPR compliance using machine learning models. This capability can help organizations respond appropriately to privacy-related inquiries, ensuring compliance with data protection laws.\n",
        "\n",
        "##2. Project Description\n",
        "Objective: Develop a predictive model that can classify customer service requests based on whether they pertain to GDPR issues.\n",
        "###Models Utilized:\n",
        "\n",
        "\n",
        "1. Random Forest\n",
        "2. XGBoost\n",
        "\n",
        "\n",
        "\n",
        "Data: The dataset include customer requests in a ride-hailing company with fields like Request ID, Request Type, Request Description and randomly created using LLM\n",
        "\n",
        "\n",
        "##3. System Architecture\n",
        "\n",
        "\n",
        "*   Data Preprocessing: Cleansing and vectorizing text data using TF-IDF.\n",
        "*   Model Training: Training several machine learning models and selecting the best performer based on evaluation metrics.\n",
        "* Prediction Module: Deploying the selected model to predict the category of new requests.\n",
        "\n",
        "\n",
        "\n"
      ],
      "metadata": {
        "id": "rX4_Mq7KovFC"
      }
    },
    {
      "cell_type": "markdown",
      "source": [
        "###Import/Install necessary libraries"
      ],
      "metadata": {
        "id": "6wlLkOBBqSXQ"
      }
    },
    {
      "cell_type": "code",
      "source": [
        "%%capture\n",
        "import pandas as pd\n",
        "import numpy as np\n",
        "import xgboost as xgb\n",
        "import scipy.sparse as sp\n",
        "from sklearn.model_selection import train_test_split\n",
        "from sklearn.feature_extraction.text import TfidfVectorizer\n",
        "from sklearn.metrics import accuracy_score, precision_score, recall_score, f1_score, confusion_matrix\n",
        "from sklearn.linear_model import LogisticRegression\n",
        "from sklearn.ensemble import RandomForestClassifier\n",
        "from sklearn.svm import SVC\n",
        "from xgboost import XGBClassifier\n",
        "\n",
        "\n",
        "try:\n",
        "    import xgboost\n",
        "except ImportError:\n",
        "    !pip install"
      ],
      "metadata": {
        "id": "uNRTZ8TlqRXu"
      },
      "execution_count": 9,
      "outputs": []
    },
    {
      "cell_type": "markdown",
      "source": [
        "### Load the dataset"
      ],
      "metadata": {
        "id": "suiYHi8CqVql"
      }
    },
    {
      "cell_type": "code",
      "source": [
        "data = pd.read_csv('/content/sample_data/balanced_customer_service_requests_dataset.csv')"
      ],
      "metadata": {
        "id": "tpQycT77qWCw"
      },
      "execution_count": 10,
      "outputs": []
    },
    {
      "cell_type": "markdown",
      "source": [
        "###Data Preprocessing"
      ],
      "metadata": {
        "id": "OyO8_g-oqsSt"
      }
    },
    {
      "cell_type": "code",
      "source": [
        "# Create a 'GDPR_Related' column based on the 'Request Type'\n",
        "data['GDPR_Related'] = data['Request Type'].apply(lambda x: x == 'GDPR Request')\n",
        "\n",
        "\n",
        "def preprocess_text(text):\n",
        "    \"\"\"Convert text to lowercase and remove non-alphanumeric characters.\"\"\"\n",
        "    text = text.lower()\n",
        "    text = ''.join([char for char in text if char.isalnum() or char.isspace()])\n",
        "    return text\n",
        "# Apply preprocessing to the 'Request Description'\n",
        "data['Processed Description'] = data['Request Description'].apply(preprocess_text)\n",
        "\n",
        "# Feature Extraction\n",
        "vectorizer = TfidfVectorizer(max_features=1000)\n",
        "X = vectorizer.fit_transform(data['Processed Description'])\n",
        "y = data['GDPR_Related']\n",
        "\n",
        "# Splitting the data\n",
        "X_train, X_test, y_train, y_test = train_test_split(X, y, test_size=0.2, random_state=42)"
      ],
      "metadata": {
        "id": "RbSVOgrKtAXj"
      },
      "execution_count": 11,
      "outputs": []
    },
    {
      "cell_type": "markdown",
      "source": [
        "### Model Training and Evaluation\n"
      ],
      "metadata": {
        "id": "W6b_mPlIq6BP"
      }
    },
    {
      "cell_type": "code",
      "source": [
        "# Model Training and Evaluation\n",
        "# Define models\n",
        "\n",
        "models = {\n",
        "    'Random Forest': RandomForestClassifier(n_estimators=100, random_state=42),\n",
        "    'XGBoost': xgb.XGBClassifier(objective='binary:logistic', use_label_encoder=False, eval_metric='logloss', seed=42)\n",
        "}\n",
        "\n",
        "# Train and evaluate models\n",
        "for name, model in models.items():\n",
        "    model.fit(X_train, y_train)\n",
        "    y_pred = model.predict(X_test)\n",
        "    print(f\"Results for {name}:\")\n",
        "    print(f\"Accuracy: {accuracy_score(y_test, y_pred)}\")\n",
        "    print(f\"Precision: {precision_score(y_test, y_pred)}\")\n",
        "    print(f\"Recall: {recall_score(y_test, y_pred)}\")\n",
        "    print(f\"F1 Score: {f1_score(y_test, y_pred)}\")\n"
      ],
      "metadata": {
        "colab": {
          "base_uri": "https://localhost:8080/"
        },
        "id": "lz95cdBGq7XP",
        "outputId": "ccb308c6-657d-4c3a-cac5-336a2fbb397b"
      },
      "execution_count": 12,
      "outputs": [
        {
          "output_type": "stream",
          "name": "stdout",
          "text": [
            "Results for Random Forest:\n",
            "Accuracy: 1.0\n",
            "Precision: 1.0\n",
            "Recall: 1.0\n",
            "F1 Score: 1.0\n",
            "Results for XGBoost:\n",
            "Accuracy: 1.0\n",
            "Precision: 1.0\n",
            "Recall: 1.0\n",
            "F1 Score: 1.0\n"
          ]
        }
      ]
    },
    {
      "cell_type": "markdown",
      "source": [
        "### Prediction Function"
      ],
      "metadata": {
        "id": "XCF6dthtq9Px"
      }
    },
    {
      "cell_type": "code",
      "source": [
        "def predict_gdpr(description):\n",
        "    \"\"\"Generate GDPR-related predictions from different models for a given description.\"\"\"\n",
        "    processed_description = preprocess_text(description)\n",
        "    tfidf_description = vectorizer.transform([processed_description])\n",
        "    print(f\"Prediction results for: '{description}'\")\n",
        "    for name, model in models.items():\n",
        "        prediction = model.predict(tfidf_description)\n",
        "        print(f\"{name}: {'GDPR-related' if prediction else 'Not GDPR-related'}\")\n"
      ],
      "metadata": {
        "id": "-tJtCLuZrB_v"
      },
      "execution_count": 13,
      "outputs": []
    },
    {
      "cell_type": "markdown",
      "source": [
        "#User Input and Prediction"
      ],
      "metadata": {
        "id": "yhSV4IycrDub"
      }
    },
    {
      "cell_type": "code",
      "source": [
        "# Loop to continuously accept input\n",
        "while True:\n",
        "    user_input = input(\"Enter a customer service request description to predict (type 'exit' to quit): \")\n",
        "    if user_input.lower() == 'exit':\n",
        "        break\n",
        "    predict_gdpr(user_input)\n",
        "    print(\"\\n\")  # Print a newline for better separation of prediction sessions\n"
      ],
      "metadata": {
        "colab": {
          "base_uri": "https://localhost:8080/"
        },
        "id": "YlawJgro0RL6",
        "outputId": "548c56f7-099b-4d67-d8d5-6dd70a8ae8f2"
      },
      "execution_count": 14,
      "outputs": [
        {
          "name": "stdout",
          "output_type": "stream",
          "text": [
            "Enter a customer service request description to predict (type 'exit' to quit): delete data\n",
            "Prediction results for: 'delete data'\n",
            "Random Forest: GDPR-related\n",
            "XGBoost: Not GDPR-related\n",
            "\n",
            "\n",
            "Enter a customer service request description to predict (type 'exit' to quit): data access\n",
            "Prediction results for: 'data access'\n",
            "Random Forest: GDPR-related\n",
            "XGBoost: Not GDPR-related\n",
            "\n",
            "\n",
            "Enter a customer service request description to predict (type 'exit' to quit): data deletion\n",
            "Prediction results for: 'data deletion'\n",
            "Random Forest: GDPR-related\n",
            "XGBoost: Not GDPR-related\n",
            "\n",
            "\n",
            "Enter a customer service request description to predict (type 'exit' to quit): data correction\n",
            "Prediction results for: 'data correction'\n",
            "Random Forest: GDPR-related\n",
            "XGBoost: Not GDPR-related\n",
            "\n",
            "\n",
            "Enter a customer service request description to predict (type 'exit' to quit): fdsfsf\n",
            "Prediction results for: 'fdsfsf'\n",
            "Random Forest: Not GDPR-related\n",
            "XGBoost: Not GDPR-related\n",
            "\n",
            "\n",
            "Enter a customer service request description to predict (type 'exit' to quit): I want to transfer my data to another service.\n",
            "Prediction results for: 'I want to transfer my data to another service.'\n",
            "Random Forest: GDPR-related\n",
            "XGBoost: GDPR-related\n",
            "\n",
            "\n",
            "Enter a customer service request description to predict (type 'exit' to quit): \"I request that you cease processing my data for certain activities.\"\n",
            "Prediction results for: '\"I request that you cease processing my data for certain activities.\"'\n",
            "Random Forest: GDPR-related\n",
            "XGBoost: GDPR-related\n",
            "\n",
            "\n",
            "Enter a customer service request description to predict (type 'exit' to quit): exit\n"
          ]
        }
      ]
    }
  ]
}